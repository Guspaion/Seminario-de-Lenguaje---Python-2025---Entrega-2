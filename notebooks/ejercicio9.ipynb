{
 "cells": [
  {
   "cell_type": "code",
   "execution_count": 1,
   "metadata": {},
   "outputs": [
    {
     "name": "stdout",
     "output_type": "stream",
     "text": [
      "['Alejandro Gonzalez', 'Ana Lopez', 'Andres Ocampo', 'Carlos Mendes', 'Claudia Torres', 'Damian Castillo', 'Gabriela Ruiz', 'Juan Perez', 'Laura Ramos', 'Luis Rodriguez', 'Maria Martinez', 'Marta Suarez', 'Miguel Ángel', 'Monica Herrera', 'Patricia Vega', 'Pedro Gomez', 'Ricardo Fernandez', 'Sandra Morales']\n"
     ]
    }
   ],
   "source": [
    "import sys\n",
    "import os\n",
    "\n",
    "# Agrega el directorio raíz \"Entregas\" al path\n",
    "sys.path.append(os.path.abspath(os.path.join(os.getcwd(), \"..\")))\n",
    "\n",
    "import src.functions as fn\n",
    "\n",
    "clients = [\n",
    " \"  Ana López \", \"Pedro Gómez\", \"maria martínez\", \"Pedro Gómez \", \"\",\n",
    " \" Luis Rodríguez \", None, \"ana lópez\", \"JUAN PÉREZ\", \"MARTA SUÁREZ\",\n",
    " \"luis rodríguez\", \"maría martínez \", \" claudia torres\", \"CLAUDIA TORRES\",\n",
    " \"  \", \"pedro gómez\", \"Juan Pérez\", None, \"Ricardo Fernández\", \"LAURA RAMOS\",\n",
    " \"carlos mendes\", \"RICARDO FERNÁNDEZ  \", \" Laura ramos\", \"CARLOS MENDES\",\n",
    " \"alejandro gonzález\", \" ALEJANDRO GONZÁLEZ  \", \"Patricia Vega\",\n",
    " \"patricia VEGA\", \"Andrés Ocampo\", \"  andrés ocampo\", \"Monica Herrera\",\n",
    " \"MONICA HERRERA  \", \"gabriela ruíz\", \"Gabriela Ruíz\", \"sandra morales\",\n",
    " \"SANDRA MORALES\", \"miguel ángel\", \"Miguel Ángel \", \" Damián Castillo\",\n",
    " \"Damián Castillo  \", None, \"\", \"  \"]\n",
    "\n",
    "clients_corrected = fn.procesar_lista(clients)\n",
    "print(clients_corrected)"
   ]
  }
 ],
 "metadata": {
  "kernelspec": {
   "display_name": "Python 3",
   "language": "python",
   "name": "python3"
  },
  "language_info": {
   "codemirror_mode": {
    "name": "ipython",
    "version": 3
   },
   "file_extension": ".py",
   "mimetype": "text/x-python",
   "name": "python",
   "nbconvert_exporter": "python",
   "pygments_lexer": "ipython3",
   "version": "3.12.9"
  }
 },
 "nbformat": 4,
 "nbformat_minor": 2
}
