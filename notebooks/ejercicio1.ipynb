{
 "cells": [
  {
   "cell_type": "code",
   "execution_count": null,
   "metadata": {},
   "outputs": [],
   "source": [
    "import sys\n",
    "import os\n",
    "\n",
    "# Agrega el directorio raíz \"Entregas\" al path\n",
    "sys.path.append(os.path.abspath(os.path.join(os.getcwd(), \"..\")))\n",
    "\n",
    "import src.functions as fn\n",
    "\n",
    "zen_text = \"The Zen of Python, by Tim Peters \\n\"\n",
    "\"Beautiful is better than ugly.\\n\"\n",
    "\"Explicit is better than implicit.\\n\"\n",
    "\"Simple is better than complex.\\n\"\n",
    "\"Complex is better than complicated.\\n\"\n",
    "\"Flat is better than nested.\\n\"\n",
    "\"Sparse is better than dense.\\n\"\n",
    "\"Readability counts.\\n\"\n",
    "\"Special cases aren't special enough to break the rules.\\n\"\n",
    "\"Although practicality beats purity.\\n\"\n",
    "\"Errors should never pass silently.\\n\"\n",
    "\"Unless explicitly silenced.\\n\"\n",
    "\"In the face of ambiguity, refuse the temptation to guess.\\n\"\n",
    "\"There should be one-- and preferably only one --obvious way to do it.\\n\"\n",
    "\"Although that way may not be obvious at first unless you're Dutch.\\n\"\n",
    "\"Now is better than never.\\n\"\n",
    "\"Although never is often better than *right* now.\\n\"\n",
    "\"If the implementation is hard to explain, it's a bad idea.\\n\"\n",
    "\"If the implementation is easy to explain, it may be a good idea.\\n\"\n",
    "\"Namespaces are one honking great idea -- let's do more of those!\\n\"\n",
    "\n",
    "for linea in zen_text.split(\"\\n\"):  \n",
    "    if fn.segunda_palabra_vocal(linea):\n",
    "        print(linea.strip())"
   ]
  }
 ],
 "metadata": {
  "language_info": {
   "name": "python"
  }
 },
 "nbformat": 4,
 "nbformat_minor": 2
}
