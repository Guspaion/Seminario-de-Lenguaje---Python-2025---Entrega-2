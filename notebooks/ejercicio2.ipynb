{
 "cells": [
  {
   "cell_type": "code",
   "execution_count": null,
   "metadata": {},
   "outputs": [],
   "source": [
    "import sys\n",
    "import os\n",
    "\n",
    "# Agrega el directorio raíz \"Entregas\" al path\n",
    "sys.path.append(os.path.abspath(os.path.join(os.getcwd(), \"..\")))\n",
    "\n",
    "import src.functions as fn\n",
    "\n",
    "titles = [\n",
    "    \"Speedrun de Super Mario en tiempo récord\",\n",
    "    \"Charla sobre desarrollo de videojuegos\",\n",
    "    \"Jugando al nuevo FPS del momento con amigos\",\n",
    "    \"Música en vivo: improvisaciones al piano\"\n",
    "]\n",
    "\n",
    "cantLetras = int(0)\n",
    "longestTitle = \"\"\n",
    "\n",
    "for title in titles:\n",
    "    if(len(title) > cantLetras):\n",
    "        longestTitle = title\n",
    "        cantLetras = len(title)\n",
    "\n",
    "print(f\"El título más largo es '{longestTitle}'\")"
   ]
  }
 ],
 "metadata": {
  "kernelspec": {
   "display_name": "Python 3",
   "language": "python",
   "name": "python3"
  },
  "language_info": {
   "name": "python",
   "version": "3.12.9"
  }
 },
 "nbformat": 4,
 "nbformat_minor": 2
}
