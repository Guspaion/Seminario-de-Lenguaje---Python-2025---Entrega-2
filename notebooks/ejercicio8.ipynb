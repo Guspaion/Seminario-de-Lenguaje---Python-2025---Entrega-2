{
 "cells": [
  {
   "cell_type": "code",
   "execution_count": 1,
   "metadata": {},
   "outputs": [
    {
     "name": "stdout",
     "output_type": "stream",
     "text": [
      "Se solicitaran dos palabras para comprobar que sean anagramas\n",
      "...............\n",
      "pork\n",
      "korp\n",
      "...............\n",
      "Las palabras pork y korp son anagramas\n"
     ]
    }
   ],
   "source": [
    "import sys\n",
    "import os\n",
    "\n",
    "# Agrega el directorio raíz \"Entregas\" al path\n",
    "sys.path.append(os.path.abspath(os.path.join(os.getcwd(), \"..\")))\n",
    "\n",
    "import src.functions as fn\n",
    "\n",
    "print(\"Se solicitaran dos palabras para comprobar que sean anagramas\")\n",
    "print(\".\" * 15)\n",
    "palabra = input(\"Ingrese la primer palabra: \")\n",
    "print(palabra)\n",
    "otra_palabra = input(\"Ingrese la segunda palabra: \")\n",
    "print(otra_palabra)\n",
    "print(\".\" * 15)\n",
    "if(fn.es_anagrama(palabra, otra_palabra)):\n",
    "    print(f\"Las palabras {palabra} y {otra_palabra} son anagramas\")\n",
    "else:\n",
    "    print(f\"Las palabras {palabra} y {otra_palabra} no son anagramas\")"
   ]
  }
 ],
 "metadata": {
  "kernelspec": {
   "display_name": "Python 3",
   "language": "python",
   "name": "python3"
  },
  "language_info": {
   "codemirror_mode": {
    "name": "ipython",
    "version": 3
   },
   "file_extension": ".py",
   "mimetype": "text/x-python",
   "name": "python",
   "nbconvert_exporter": "python",
   "pygments_lexer": "ipython3",
   "version": "3.12.9"
  }
 },
 "nbformat": 4,
 "nbformat_minor": 2
}
