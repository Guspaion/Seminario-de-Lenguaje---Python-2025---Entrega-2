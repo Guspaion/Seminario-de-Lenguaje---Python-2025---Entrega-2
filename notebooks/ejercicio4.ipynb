{
 "cells": [
  {
   "cell_type": "code",
   "execution_count": 1,
   "metadata": {},
   "outputs": [
    {
     "name": "stdout",
     "output_type": "stream",
     "text": [
      "El nombre de usuario debe tener: \n",
      "- Al menos 5 caracteres \n",
      "- Al menos un número \n",
      "-Al menos una mayúscula \n",
      "\n",
      "Además, solo puede contener letras y números\n",
      "\n",
      "Se registro el usuario Cacatuo98\n"
     ]
    }
   ],
   "source": [
    "import sys\n",
    "import os\n",
    "\n",
    "# Agrega el directorio raíz \"Entregas\" al path\n",
    "sys.path.append(os.path.abspath(os.path.join(os.getcwd(), \"..\")))\n",
    "\n",
    "import src.functions as fn\n",
    "\n",
    "print(\"El nombre de usuario debe tener: \\n- Al menos 5 caracteres \\n- Al menos un número \\n-Al menos una mayúscula \\n\"\n",
    "\"\\nAdemás, solo puede contener letras y números\\n\")\n",
    "\n",
    "valido = False\n",
    "\n",
    "while(not valido):\n",
    "    user_name = input(\"Ingrese un nombre de usuario: \") \n",
    "    if fn.validar_nombre_usuario(user_name):\n",
    "        print(f\"Se registro el usuario {user_name}\")\n",
    "        valido = True"
   ]
  }
 ],
 "metadata": {
  "kernelspec": {
   "display_name": "Python 3",
   "language": "python",
   "name": "python3"
  },
  "language_info": {
   "codemirror_mode": {
    "name": "ipython",
    "version": 3
   },
   "file_extension": ".py",
   "mimetype": "text/x-python",
   "name": "python",
   "nbconvert_exporter": "python",
   "pygments_lexer": "ipython3",
   "version": "3.12.9"
  }
 },
 "nbformat": 4,
 "nbformat_minor": 2
}
